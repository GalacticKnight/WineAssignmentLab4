{
 "cells": [
  {
   "cell_type": "markdown",
   "id": "adc7c211",
   "metadata": {},
   "source": [
    "# dsaoijdasoidasjdaosidj\n",
    "**dadsa**\n",
    "\\\\adssasda\\\\\n",
    "* asdasda"
   ]
  },
  {
   "cell_type": "code",
   "execution_count": null,
   "id": "e3b17736",
   "metadata": {},
   "outputs": [],
   "source": []
  },
  {
   "cell_type": "code",
   "execution_count": 1,
   "id": "328a006b",
   "metadata": {},
   "outputs": [],
   "source": [
    "import numpy as np\n",
    "import pandas as pd\n",
    "import matplotlib as plt\n",
    "import seaborn as sns\n",
    "from sklearn.model_selection import train_test_split\n",
    "from sklearn.linear_model import LogisticRegression\n",
    "from sklearn.tree import DecisionTreeClassifier\n",
    "from sklearn.neighbors import KNeighborsClassifier\n",
    "from sklearn.metrics import accuracy_score, confusion_matrix, plot_confusion_matrix\n",
    "from sklearn.preprocessing import StandardScaler\n",
    "import seaborn as sns\n",
    "import matplotlib.pyplot as plt\n",
    "%matplotlib inline"
   ]
  },
  {
   "cell_type": "code",
   "execution_count": null,
   "id": "9064c302",
   "metadata": {},
   "outputs": [],
   "source": []
  },
  {
   "cell_type": "code",
   "execution_count": 2,
   "id": "11d398da",
   "metadata": {},
   "outputs": [],
   "source": [
    "df = pd.read_csv(\"winequality-red.csv\")#this is the dataset from the wine website I used for is quality"
   ]
  },
  {
   "cell_type": "code",
   "execution_count": 3,
   "id": "8ca1f467",
   "metadata": {},
   "outputs": [
    {
     "data": {
      "text/html": [
       "<div>\n",
       "<style scoped>\n",
       "    .dataframe tbody tr th:only-of-type {\n",
       "        vertical-align: middle;\n",
       "    }\n",
       "\n",
       "    .dataframe tbody tr th {\n",
       "        vertical-align: top;\n",
       "    }\n",
       "\n",
       "    .dataframe thead th {\n",
       "        text-align: right;\n",
       "    }\n",
       "</style>\n",
       "<table border=\"1\" class=\"dataframe\">\n",
       "  <thead>\n",
       "    <tr style=\"text-align: right;\">\n",
       "      <th></th>\n",
       "      <th>fixed acidity</th>\n",
       "      <th>volatile acidity</th>\n",
       "      <th>citric acid</th>\n",
       "      <th>residual sugar</th>\n",
       "      <th>chlorides</th>\n",
       "      <th>free sulfur dioxide</th>\n",
       "      <th>total sulfur dioxide</th>\n",
       "      <th>density</th>\n",
       "      <th>pH</th>\n",
       "      <th>sulphates</th>\n",
       "      <th>alcohol</th>\n",
       "      <th>quality</th>\n",
       "    </tr>\n",
       "  </thead>\n",
       "  <tbody>\n",
       "    <tr>\n",
       "      <th>0</th>\n",
       "      <td>7.4</td>\n",
       "      <td>0.70</td>\n",
       "      <td>0.00</td>\n",
       "      <td>1.9</td>\n",
       "      <td>0.076</td>\n",
       "      <td>11.0</td>\n",
       "      <td>34.0</td>\n",
       "      <td>0.9978</td>\n",
       "      <td>3.51</td>\n",
       "      <td>0.56</td>\n",
       "      <td>9.4</td>\n",
       "      <td>5</td>\n",
       "    </tr>\n",
       "    <tr>\n",
       "      <th>1</th>\n",
       "      <td>7.8</td>\n",
       "      <td>0.88</td>\n",
       "      <td>0.00</td>\n",
       "      <td>2.6</td>\n",
       "      <td>0.098</td>\n",
       "      <td>25.0</td>\n",
       "      <td>67.0</td>\n",
       "      <td>0.9968</td>\n",
       "      <td>3.20</td>\n",
       "      <td>0.68</td>\n",
       "      <td>9.8</td>\n",
       "      <td>5</td>\n",
       "    </tr>\n",
       "    <tr>\n",
       "      <th>2</th>\n",
       "      <td>7.8</td>\n",
       "      <td>0.76</td>\n",
       "      <td>0.04</td>\n",
       "      <td>2.3</td>\n",
       "      <td>0.092</td>\n",
       "      <td>15.0</td>\n",
       "      <td>54.0</td>\n",
       "      <td>0.9970</td>\n",
       "      <td>3.26</td>\n",
       "      <td>0.65</td>\n",
       "      <td>9.8</td>\n",
       "      <td>5</td>\n",
       "    </tr>\n",
       "    <tr>\n",
       "      <th>3</th>\n",
       "      <td>11.2</td>\n",
       "      <td>0.28</td>\n",
       "      <td>0.56</td>\n",
       "      <td>1.9</td>\n",
       "      <td>0.075</td>\n",
       "      <td>17.0</td>\n",
       "      <td>60.0</td>\n",
       "      <td>0.9980</td>\n",
       "      <td>3.16</td>\n",
       "      <td>0.58</td>\n",
       "      <td>9.8</td>\n",
       "      <td>6</td>\n",
       "    </tr>\n",
       "    <tr>\n",
       "      <th>4</th>\n",
       "      <td>7.4</td>\n",
       "      <td>0.70</td>\n",
       "      <td>0.00</td>\n",
       "      <td>1.9</td>\n",
       "      <td>0.076</td>\n",
       "      <td>11.0</td>\n",
       "      <td>34.0</td>\n",
       "      <td>0.9978</td>\n",
       "      <td>3.51</td>\n",
       "      <td>0.56</td>\n",
       "      <td>9.4</td>\n",
       "      <td>5</td>\n",
       "    </tr>\n",
       "  </tbody>\n",
       "</table>\n",
       "</div>"
      ],
      "text/plain": [
       "   fixed acidity  volatile acidity  citric acid  residual sugar  chlorides  \\\n",
       "0            7.4              0.70         0.00             1.9      0.076   \n",
       "1            7.8              0.88         0.00             2.6      0.098   \n",
       "2            7.8              0.76         0.04             2.3      0.092   \n",
       "3           11.2              0.28         0.56             1.9      0.075   \n",
       "4            7.4              0.70         0.00             1.9      0.076   \n",
       "\n",
       "   free sulfur dioxide  total sulfur dioxide  density    pH  sulphates  \\\n",
       "0                 11.0                  34.0   0.9978  3.51       0.56   \n",
       "1                 25.0                  67.0   0.9968  3.20       0.68   \n",
       "2                 15.0                  54.0   0.9970  3.26       0.65   \n",
       "3                 17.0                  60.0   0.9980  3.16       0.58   \n",
       "4                 11.0                  34.0   0.9978  3.51       0.56   \n",
       "\n",
       "   alcohol  quality  \n",
       "0      9.4        5  \n",
       "1      9.8        5  \n",
       "2      9.8        5  \n",
       "3      9.8        6  \n",
       "4      9.4        5  "
      ]
     },
     "execution_count": 3,
     "metadata": {},
     "output_type": "execute_result"
    }
   ],
   "source": [
    "df.head()#this indicates the dataset for the first 5"
   ]
  },
  {
   "cell_type": "code",
   "execution_count": 4,
   "id": "75786f42",
   "metadata": {},
   "outputs": [
    {
     "data": {
      "text/plain": [
       "fixed acidity           0\n",
       "volatile acidity        0\n",
       "citric acid             0\n",
       "residual sugar          0\n",
       "chlorides               0\n",
       "free sulfur dioxide     0\n",
       "total sulfur dioxide    0\n",
       "density                 0\n",
       "pH                      0\n",
       "sulphates               0\n",
       "alcohol                 0\n",
       "quality                 0\n",
       "dtype: int64"
      ]
     },
     "execution_count": 4,
     "metadata": {},
     "output_type": "execute_result"
    }
   ],
   "source": [
    "df.isna().sum()"
   ]
  },
  {
   "cell_type": "code",
   "execution_count": 5,
   "id": "c94e137c",
   "metadata": {},
   "outputs": [
    {
     "name": "stdout",
     "output_type": "stream",
     "text": [
      "<class 'pandas.core.frame.DataFrame'>\n",
      "RangeIndex: 1599 entries, 0 to 1598\n",
      "Data columns (total 12 columns):\n",
      " #   Column                Non-Null Count  Dtype  \n",
      "---  ------                --------------  -----  \n",
      " 0   fixed acidity         1599 non-null   float64\n",
      " 1   volatile acidity      1599 non-null   float64\n",
      " 2   citric acid           1599 non-null   float64\n",
      " 3   residual sugar        1599 non-null   float64\n",
      " 4   chlorides             1599 non-null   float64\n",
      " 5   free sulfur dioxide   1599 non-null   float64\n",
      " 6   total sulfur dioxide  1599 non-null   float64\n",
      " 7   density               1599 non-null   float64\n",
      " 8   pH                    1599 non-null   float64\n",
      " 9   sulphates             1599 non-null   float64\n",
      " 10  alcohol               1599 non-null   float64\n",
      " 11  quality               1599 non-null   int64  \n",
      "dtypes: float64(11), int64(1)\n",
      "memory usage: 150.0 KB\n"
     ]
    }
   ],
   "source": [
    "df.info()"
   ]
  },
  {
   "cell_type": "code",
   "execution_count": 6,
   "id": "953a0556",
   "metadata": {},
   "outputs": [
    {
     "name": "stdout",
     "output_type": "stream",
     "text": [
      "<class 'pandas.core.frame.DataFrame'>\n",
      "RangeIndex: 1599 entries, 0 to 1598\n",
      "Data columns (total 12 columns):\n",
      " #   Column                Non-Null Count  Dtype  \n",
      "---  ------                --------------  -----  \n",
      " 0   fixed acidity         1599 non-null   float64\n",
      " 1   volatile acidity      1599 non-null   float64\n",
      " 2   citric acid           1599 non-null   float64\n",
      " 3   residual sugar        1599 non-null   float64\n",
      " 4   chlorides             1599 non-null   float64\n",
      " 5   free sulfur dioxide   1599 non-null   float64\n",
      " 6   total sulfur dioxide  1599 non-null   float64\n",
      " 7   density               1599 non-null   float64\n",
      " 8   pH                    1599 non-null   float64\n",
      " 9   sulphates             1599 non-null   float64\n",
      " 10  alcohol               1599 non-null   float64\n",
      " 11  quality               1599 non-null   object \n",
      "dtypes: float64(11), object(1)\n",
      "memory usage: 150.0+ KB\n"
     ]
    }
   ],
   "source": [
    "df['quality']=df['quality'].map(str)\n",
    "df.info()"
   ]
  },
  {
   "cell_type": "code",
   "execution_count": 7,
   "id": "be5050f8",
   "metadata": {},
   "outputs": [
    {
     "data": {
      "text/plain": [
       "5    681\n",
       "6    638\n",
       "7    199\n",
       "4     53\n",
       "8     18\n",
       "3     10\n",
       "Name: quality, dtype: int64"
      ]
     },
     "execution_count": 7,
     "metadata": {},
     "output_type": "execute_result"
    }
   ],
   "source": [
    "df.quality.value_counts()"
   ]
  },
  {
   "cell_type": "code",
   "execution_count": 8,
   "id": "d0ee6f1e",
   "metadata": {},
   "outputs": [
    {
     "data": {
      "text/plain": [
       "0       5\n",
       "1       5\n",
       "2       5\n",
       "3       6\n",
       "4       5\n",
       "       ..\n",
       "1594    5\n",
       "1595    6\n",
       "1596    6\n",
       "1597    5\n",
       "1598    6\n",
       "Name: quality, Length: 1599, dtype: object"
      ]
     },
     "execution_count": 8,
     "metadata": {},
     "output_type": "execute_result"
    }
   ],
   "source": [
    "df.quality"
   ]
  },
  {
   "cell_type": "code",
   "execution_count": 9,
   "id": "bcd43008",
   "metadata": {},
   "outputs": [
    {
     "data": {
      "text/plain": [
       "5-6    1319\n",
       "7-8     217\n",
       "3-4      63\n",
       "Name: quality, dtype: int64"
      ]
     },
     "execution_count": 9,
     "metadata": {},
     "output_type": "execute_result"
    }
   ],
   "source": [
    "df['quality'] = df['quality'].apply(lambda x: '3-4' if ('3' in x or '4' in x) else x)\n",
    "df['quality'] = df['quality'].apply(lambda x: '5-6' if ('5' in x or '6' in x) else x)\n",
    "df['quality'] = df['quality'].apply(lambda x: '7-8' if ('7' in x or '8' in x) else x)\n",
    "df['quality'].value_counts()#this forces all the categories of number qualities like 3 and 4 into one category 3-4 and counts"
   ]
  },
  {
   "cell_type": "code",
   "execution_count": 10,
   "id": "014edd85",
   "metadata": {},
   "outputs": [],
   "source": [
    "x = df.drop(\"quality\", axis=1)\n",
    "y = df[\"quality\"]\n",
    "x_train,x_test,y_train , y_test = train_test_split (x , y )#this is properly splits the data"
   ]
  },
  {
   "cell_type": "code",
   "execution_count": 11,
   "id": "c23a3ab3",
   "metadata": {},
   "outputs": [],
   "source": [
    "scaler = StandardScaler()\n",
    "scaler.fit(x_train)\n",
    "x_train = scaler.transform(x_train)\n",
    "x_test = scaler.transform(x_test)#I concooperated this so that the program would not misread predicting and reading"
   ]
  },
  {
   "cell_type": "code",
   "execution_count": 12,
   "id": "9462c1be",
   "metadata": {
    "scrolled": true
   },
   "outputs": [],
   "source": [
    "model1 = LogisticRegression(multi_class='auto').fit(x_train, y_train)# this uses the algorithm LogReg"
   ]
  },
  {
   "cell_type": "code",
   "execution_count": 13,
   "id": "fd8e4a5b",
   "metadata": {},
   "outputs": [],
   "source": [
    "y_hat_test=model1.predict(x_test)\n",
    "y_hat_train= model1.predict(x_train)#this sets up the variable for prediciting outcomes"
   ]
  },
  {
   "cell_type": "code",
   "execution_count": 14,
   "id": "638572a4",
   "metadata": {},
   "outputs": [
    {
     "name": "stdout",
     "output_type": "stream",
     "text": [
      "Number of values correctly predicted:\n",
      "True     1011\n",
      "False     188\n",
      "Name: quality, dtype: int64\n"
     ]
    }
   ],
   "source": [
    "residuals = y_train == y_hat_train\n",
    "print('Number of values correctly predicted:')\n",
    "print(pd.Series(residuals).value_counts()) # this counts how many predicted were true and false using LogReg."
   ]
  },
  {
   "cell_type": "code",
   "execution_count": 15,
   "id": "5f5a6112",
   "metadata": {},
   "outputs": [
    {
     "name": "stdout",
     "output_type": "stream",
     "text": [
      "Number of values correctly predicted: \n",
      "True     337\n",
      "False     63\n",
      "Name: quality, dtype: int64\n"
     ]
    }
   ],
   "source": [
    "residuals = y_test == y_hat_test\n",
    "print('Number of values correctly predicted: ')\n",
    "print(pd.Series(residuals).value_counts())# this counts how many predicted were true and false using LogReg."
   ]
  },
  {
   "cell_type": "code",
   "execution_count": 16,
   "id": "1ac9808a",
   "metadata": {},
   "outputs": [
    {
     "data": {
      "text/plain": [
       "0.8432026688907422"
      ]
     },
     "execution_count": 16,
     "metadata": {},
     "output_type": "execute_result"
    }
   ],
   "source": [
    "accuracy_score(y_train, y_hat_train)#this calculated accuracy of the algorithm"
   ]
  },
  {
   "cell_type": "code",
   "execution_count": 17,
   "id": "25fe9c2f",
   "metadata": {},
   "outputs": [
    {
     "data": {
      "text/plain": [
       "0.8425"
      ]
     },
     "execution_count": 17,
     "metadata": {},
     "output_type": "execute_result"
    }
   ],
   "source": [
    "accuracy_score(y_test, y_hat_test)#this calculated accuracy of the algorithm"
   ]
  },
  {
   "cell_type": "code",
   "execution_count": 18,
   "id": "61f1c0c9",
   "metadata": {
    "scrolled": true
   },
   "outputs": [
    {
     "data": {
      "text/plain": [
       "<Figure size 720x720 with 0 Axes>"
      ]
     },
     "metadata": {},
     "output_type": "display_data"
    },
    {
     "data": {
      "image/png": "[encoded data removed]",
      "text/plain": [
       "<Figure size 432x288 with 2 Axes>"
      ]
     },
     "metadata": {
      "needs_background": "light"
     },
     "output_type": "display_data"
    }
   ],
   "source": [
    "plt.figure(figsize =(10,10))\n",
    "plot_confusion_matrix(model1, x_test, y_test,cmap=plt.cm.Blues,normalize='true')\n",
    "plt.xticks(horizontalalignment='right', fontsize='small')\n",
    "plt.show() #this writes the matrix of the accuracy"
   ]
  },
  {
   "cell_type": "code",
   "execution_count": null,
   "id": "e5f50e3f",
   "metadata": {},
   "outputs": [],
   "source": []
  },
  {
   "cell_type": "code",
   "execution_count": 19,
   "id": "9b52bcd6",
   "metadata": {},
   "outputs": [],
   "source": [
    "model2 = DecisionTreeClassifier().fit(x_train, y_train)# this uses the algorithm DecisionTree"
   ]
  },
  {
   "cell_type": "code",
   "execution_count": 20,
   "id": "cbd62548",
   "metadata": {},
   "outputs": [],
   "source": [
    "y_hat_test=model2.predict(x_test)\n",
    "y_hat_train= model2.predict(x_train)#this sets up the variable for prediciting outcomes"
   ]
  },
  {
   "cell_type": "code",
   "execution_count": 21,
   "id": "a6b28d43",
   "metadata": {},
   "outputs": [
    {
     "name": "stdout",
     "output_type": "stream",
     "text": [
      "Number of values correctly predicted:\n",
      "True    1199\n",
      "Name: quality, dtype: int64\n"
     ]
    }
   ],
   "source": [
    "residuals = y_train == y_hat_train\n",
    "print('Number of values correctly predicted:')\n",
    "print(pd.Series(residuals).value_counts())# this counts how many predicted were true and false using DecisionTree."
   ]
  },
  {
   "cell_type": "code",
   "execution_count": 22,
   "id": "15b69b2b",
   "metadata": {},
   "outputs": [
    {
     "name": "stdout",
     "output_type": "stream",
     "text": [
      "Number of values correctly predicted: \n",
      "True     335\n",
      "False     65\n",
      "Name: quality, dtype: int64\n"
     ]
    }
   ],
   "source": [
    "residuals = y_test == y_hat_test\n",
    "print('Number of values correctly predicted: ')\n",
    "print(pd.Series(residuals).value_counts())# this counts how many predicted were true and false using DecisionTree."
   ]
  },
  {
   "cell_type": "code",
   "execution_count": 23,
   "id": "6981d1e1",
   "metadata": {},
   "outputs": [
    {
     "data": {
      "text/plain": [
       "1.0"
      ]
     },
     "execution_count": 23,
     "metadata": {},
     "output_type": "execute_result"
    }
   ],
   "source": [
    "accuracy_score(y_train, y_hat_train)#this calculated accuracy of the algorithm"
   ]
  },
  {
   "cell_type": "code",
   "execution_count": 24,
   "id": "a3c51745",
   "metadata": {},
   "outputs": [
    {
     "data": {
      "text/plain": [
       "0.8375"
      ]
     },
     "execution_count": 24,
     "metadata": {},
     "output_type": "execute_result"
    }
   ],
   "source": [
    "accuracy_score(y_test, y_hat_test)#this calculated accuracy of the algorithm"
   ]
  },
  {
   "cell_type": "code",
   "execution_count": 25,
   "id": "89ad0610",
   "metadata": {},
   "outputs": [
    {
     "data": {
      "text/plain": [
       "<Figure size 720x720 with 0 Axes>"
      ]
     },
     "metadata": {},
     "output_type": "display_data"
    },
    {
     "data": {
      "image/png": "[encoded data removed]",
      "text/plain": [
       "<Figure size 432x288 with 2 Axes>"
      ]
     },
     "metadata": {
      "needs_background": "light"
     },
     "output_type": "display_data"
    }
   ],
   "source": [
    "plt.figure(figsize =(10,10))\n",
    "plot_confusion_matrix(model2, x_test, y_test, cmap=plt.cm.Blues,normalize='true')\n",
    "plt.xticks(horizontalalignment='right', fontsize='small')\n",
    "plt.show()#this writes the matrix of the accuracy"
   ]
  },
  {
   "cell_type": "code",
   "execution_count": 26,
   "id": "1938b4e6",
   "metadata": {},
   "outputs": [],
   "source": [
    "model3 = KNeighborsClassifier().fit(x_train, y_train)"
   ]
  },
  {
   "cell_type": "code",
   "execution_count": 27,
   "id": "cdffc910",
   "metadata": {},
   "outputs": [],
   "source": [
    "y_hat_test=model3.predict(x_test)\n",
    "y_hat_train= model3.predict(x_train)#this sets up the variable for prediciting outcomes"
   ]
  },
  {
   "cell_type": "code",
   "execution_count": 28,
   "id": "241201a1",
   "metadata": {},
   "outputs": [
    {
     "name": "stdout",
     "output_type": "stream",
     "text": [
      "Number of values correctly predicted:\n",
      "True     1044\n",
      "False     155\n",
      "Name: quality, dtype: int64\n"
     ]
    }
   ],
   "source": [
    "residuals = y_train == y_hat_train\n",
    "print('Number of values correctly predicted:')\n",
    "print(pd.Series(residuals).value_counts())# this counts how many predicted were true and false using Kneighbor"
   ]
  },
  {
   "cell_type": "code",
   "execution_count": 29,
   "id": "2498a1cd",
   "metadata": {},
   "outputs": [
    {
     "name": "stdout",
     "output_type": "stream",
     "text": [
      "Number of values correctly predicted: \n",
      "True     338\n",
      "False     62\n",
      "Name: quality, dtype: int64\n"
     ]
    }
   ],
   "source": [
    "residuals = y_test == y_hat_test\n",
    "print('Number of values correctly predicted: ')\n",
    "print(pd.Series(residuals).value_counts())# this counts how many predicted were true and false using Kneighbor."
   ]
  },
  {
   "cell_type": "code",
   "execution_count": 30,
   "id": "b3af3cf9",
   "metadata": {},
   "outputs": [
    {
     "data": {
      "text/plain": [
       "0.8707256046705588"
      ]
     },
     "execution_count": 30,
     "metadata": {},
     "output_type": "execute_result"
    }
   ],
   "source": [
    "accuracy_score(y_train, y_hat_train)#this calculated accuracy of the algorithm"
   ]
  },
  {
   "cell_type": "code",
   "execution_count": 31,
   "id": "9af6eb2e",
   "metadata": {},
   "outputs": [
    {
     "data": {
      "text/plain": [
       "0.845"
      ]
     },
     "execution_count": 31,
     "metadata": {},
     "output_type": "execute_result"
    }
   ],
   "source": [
    "accuracy_score(y_test, y_hat_test)#this calculated accuracy of the algorithm"
   ]
  },
  {
   "cell_type": "code",
   "execution_count": 32,
   "id": "2cbe1ed0",
   "metadata": {},
   "outputs": [
    {
     "data": {
      "text/plain": [
       "<Figure size 720x720 with 0 Axes>"
      ]
     },
     "metadata": {},
     "output_type": "display_data"
    },
    {
     "data": {
      "image/png": "[encoded data removed]",
      "text/plain": [
       "<Figure size 432x288 with 2 Axes>"
      ]
     },
     "metadata": {
      "needs_background": "light"
     },
     "output_type": "display_data"
    }
   ],
   "source": [
    "plt.figure(figsize =(10,10))\n",
    "plot_confusion_matrix(model3, x_test, y_test,cmap=plt.cm.Blues,normalize='true')\n",
    "plt.xticks(horizontalalignment='right', fontsize='small')\n",
    "plt.show()#this writes the matrix of the accuracy"
   ]
  }
 ],
 "metadata": {
  "kernelspec": {
   "display_name": "Python 3",
   "language": "python",
   "name": "python3"
  },
  "language_info": {
   "codemirror_mode": {
    "name": "ipython",
    "version": 3
   },
   "file_extension": ".py",
   "mimetype": "text/x-python",
   "name": "python",
   "nbconvert_exporter": "python",
   "pygments_lexer": "ipython3",
   "version": "3.8.8"
  }
 },
 "nbformat": 4,
 "nbformat_minor": 5
}
